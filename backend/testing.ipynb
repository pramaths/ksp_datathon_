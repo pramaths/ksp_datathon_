{
 "cells": [
  {
   "cell_type": "code",
   "execution_count": 1,
   "metadata": {},
   "outputs": [
    {
     "name": "stdout",
     "output_type": "stream",
     "text": [
      "Data points for each 'UnitName':\n",
      "UnitName\n",
      "Cyber Crime Police Station              17517\n",
      "North CEN Crime PS                       6319\n",
      "South CEN Crime PS                       5955\n",
      "Banaswadi PS                             5705\n",
      "Vijayanagar PS                           5647\n",
      "                                        ...  \n",
      "Cyber Crime PoliceStation Dharwad           4\n",
      "Cyber Crime PoliceStation Davanagere        3\n",
      "Cyber Crime Police Station Mangaluru        3\n",
      "West Women PS                               3\n",
      "Virajpet Sub-Division                       1\n",
      "Name: count, Length: 1057, dtype: int64\n",
      "\n",
      "Number of unique stations (UnitNames): 1057\n"
     ]
    }
   ],
   "source": [
    "# Import pandas library\n",
    "import pandas as pd\n",
    "\n",
    "# Define the path to your CSV file\n",
    "csv_file_path = r'Copy of ChargsheetedDetails.csv'\n",
    "\n",
    "# Load the CSV file into a DataFrame\n",
    "df = pd.read_csv(csv_file_path)\n",
    "\n",
    "# Ensure the 'UnitName' column exists in your DataFrame to avoid KeyErrors\n",
    "if 'UnitName' in df.columns:\n",
    "    # Count how many data points there are for each 'UnitName'\n",
    "    unit_name_counts = df['UnitName'].value_counts()\n",
    "    \n",
    "    # Print the counts for each station\n",
    "    print(\"Data points for each 'UnitName':\")\n",
    "    print(unit_name_counts)\n",
    "    print()  # Print a newline for better readability\n",
    "    \n",
    "    # Calculate the number of unique 'UnitName' entries\n",
    "    unique_stations_count = df['UnitName'].nunique()\n",
    "    \n",
    "    # Print the total number of unique stations\n",
    "    print(f\"Number of unique stations (UnitNames): {unique_stations_count}\")\n",
    "else:\n",
    "    print(\"The 'UnitName' column does not exist in your DataFrame. Please check your CSV file.\")\n"
   ]
  },
  {
   "cell_type": "code",
   "execution_count": 2,
   "metadata": {},
   "outputs": [
    {
     "name": "stdout",
     "output_type": "stream",
     "text": [
      "Filtered 'UnitName' counts between 500 and 1000:\n",
      "UnitName\n",
      "Kumarapattanam PS               997\n",
      "Manthala PS                     989\n",
      "Shivamogga Women PS             988\n",
      "Honnavalli PS                   988\n",
      "Punjalkatte PS                  985\n",
      "                               ... \n",
      "Chickaballapura CEN Crime PS    529\n",
      "Bhagamandala PS                 529\n",
      "Hospet Traffic PS               529\n",
      "Narayanapura PS                 519\n",
      "Haveri Women PS                 500\n",
      "Name: count, Length: 177, dtype: int64\n"
     ]
    }
   ],
   "source": [
    "import pandas as pd\n",
    "\n",
    "# Load the CSV file into a DataFrame\n",
    "csv_file_path = r'Copy of ChargsheetedDetails.csv'\n",
    "df = pd.read_csv(csv_file_path)\n",
    "\n",
    "# Count how many data points there are for each 'UnitName'\n",
    "unit_name_counts = df['UnitName'].value_counts()\n",
    "\n",
    "# Filter for 'UnitName' counts between 500 and 1000\n",
    "filtered_counts = unit_name_counts[(unit_name_counts >= 500) & (unit_name_counts <= 1000)]\n",
    "\n",
    "# Print the filtered counts\n",
    "print(\"Filtered 'UnitName' counts between 500 and 1000:\")\n",
    "print(filtered_counts)\n"
   ]
  },
  {
   "cell_type": "code",
   "execution_count": 6,
   "metadata": {},
   "outputs": [
    {
     "name": "stderr",
     "output_type": "stream",
     "text": [
      "C:\\Users\\prama\\AppData\\Local\\Temp\\ipykernel_20544\\2893320202.py:5: DtypeWarning: Columns (19,20) have mixed types. Specify dtype option on import or set low_memory=False.\n",
      "  df = pd.read_csv(csv_file_path)\n"
     ]
    },
    {
     "name": "stdout",
     "output_type": "stream",
     "text": [
      "Filtered DataFrame saved to 'Narayanapura_PS_Unit.csv'.\n"
     ]
    }
   ],
   "source": [
    "import pandas as pd\n",
    "\n",
    "# Load the CSV file into a DataFrame\n",
    "csv_file_path = r'Copy of FIR_Details_Data.csv'\n",
    "df = pd.read_csv(csv_file_path)\n",
    "\n",
    "# Ensure 'UnitName' column exists before proceeding\n",
    "if 'UnitName' not in df.columns:\n",
    "    print(\"The 'UnitName' column does not exist in your DataFrame. Please check your CSV file.\")\n",
    "else:\n",
    "    # Filter DataFrame for rows where 'UnitName' is 'Narayanapura PS'\n",
    "    narayanapura_ps_df = df[df['UnitName'] == 'Narayanapura PS']\n",
    "\n",
    "    # Optionally, you might want to reset the index if you're going to work with this filtered DataFrame further\n",
    "    narayanapura_ps_df.reset_index(drop=True, inplace=True)\n",
    "\n",
    "    # Save the filtered DataFrame to a new CSV file\n",
    "    new_csv_file_path = r'Narayanapura_PS_Unit.csv'\n",
    "    narayanapura_ps_df.to_csv(new_csv_file_path, index=False)\n",
    "\n",
    "    print(f\"Filtered DataFrame saved to '{new_csv_file_path}'.\")\n",
    "\n",
    "# This code block will filter out the rows that match 'Narayanapura PS' in the 'UnitName' column,\n",
    "# reset the index of the filtered DataFrame, and then save it to a new CSV file named 'Narayanapura_PS_Units.csv'.\n",
    "# The 'index=False' parameter is used in to_csv() to prevent pandas from writing the row indices into the CSV file.\n"
   ]
  },
  {
   "cell_type": "code",
   "execution_count": 3,
   "metadata": {},
   "outputs": [
    {
     "name": "stdout",
     "output_type": "stream",
     "text": [
      "Amengad PS has 1343 data points, which does not fall within the range of 500 to 1000.\n"
     ]
    }
   ],
   "source": [
    "import pandas as pd\n",
    "\n",
    "# Load the CSV file into a DataFrame\n",
    "csv_file_path = r'Copy of ChargsheetedDetails.csv'\n",
    "df = pd.read_csv(csv_file_path)\n",
    "\n",
    "# Check if 'UnitName' column exists\n",
    "if 'UnitName' not in df.columns:\n",
    "    print(\"The 'UnitName' column does not exist in your DataFrame. Please check your CSV file.\")\n",
    "else:\n",
    "    # Count how many data points there are for 'Amengad PS'\n",
    "    unit_name_counts = df['UnitName'].value_counts()\n",
    "    amengad_ps_count = unit_name_counts.get(\"Amengad PS\", 0)  # Default to 0 if \"Amengad PS\" is not found\n",
    "\n",
    "    # Check if the count is within the specified range\n",
    "    if 500 <= amengad_ps_count <= 1000:\n",
    "        print(f\"Amengad PS has {amengad_ps_count} data points, which falls within the range of 500 to 1000.\")\n",
    "    else:\n",
    "        print(f\"Amengad PS has {amengad_ps_count} data points, which does not fall within the range of 500 to 1000.\")\n"
   ]
  }
 ],
 "metadata": {
  "kernelspec": {
   "display_name": "Python 3",
   "language": "python",
   "name": "python3"
  },
  "language_info": {
   "codemirror_mode": {
    "name": "ipython",
    "version": 3
   },
   "file_extension": ".py",
   "mimetype": "text/x-python",
   "name": "python",
   "nbconvert_exporter": "python",
   "pygments_lexer": "ipython3",
   "version": "3.12.1"
  }
 },
 "nbformat": 4,
 "nbformat_minor": 2
}

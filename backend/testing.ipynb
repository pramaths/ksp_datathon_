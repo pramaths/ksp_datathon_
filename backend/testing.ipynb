{
 "cells": [
  {
   "cell_type": "code",
   "execution_count": 1,
   "metadata": {},
   "outputs": [
    {
     "name": "stdout",
     "output_type": "stream",
     "text": [
      "Data points for each 'UnitName':\n",
      "UnitName\n",
      "Cyber Crime Police Station              17517\n",
      "North CEN Crime PS                       6319\n",
      "South CEN Crime PS                       5955\n",
      "Banaswadi PS                             5705\n",
      "Vijayanagar PS                           5647\n",
      "                                        ...  \n",
      "Cyber Crime PoliceStation Dharwad           4\n",
      "Cyber Crime PoliceStation Davanagere        3\n",
      "Cyber Crime Police Station Mangaluru        3\n",
      "West Women PS                               3\n",
      "Virajpet Sub-Division                       1\n",
      "Name: count, Length: 1057, dtype: int64\n",
      "\n",
      "Number of unique stations (UnitNames): 1057\n"
     ]
    }
   ],
   "source": [
    "# Import pandas library\n",
    "import pandas as pd\n",
    "\n",
    "# Define the path to your CSV file\n",
    "csv_file_path = r'Copy of ChargsheetedDetails.csv'\n",
    "\n",
    "# Load the CSV file into a DataFrame\n",
    "df = pd.read_csv(csv_file_path)\n",
    "\n",
    "# Ensure the 'UnitName' column exists in your DataFrame to avoid KeyErrors\n",
    "if 'UnitName' in df.columns:\n",
    "    # Count how many data points there are for each 'UnitName'\n",
    "    unit_name_counts = df['UnitName'].value_counts()\n",
    "    \n",
    "    # Print the counts for each station\n",
    "    print(\"Data points for each 'UnitName':\")\n",
    "    print(unit_name_counts)\n",
    "    print()  # Print a newline for better readability\n",
    "    \n",
    "    # Calculate the number of unique 'UnitName' entries\n",
    "    unique_stations_count = df['UnitName'].nunique()\n",
    "    \n",
    "    # Print the total number of unique stations\n",
    "    print(f\"Number of unique stations (UnitNames): {unique_stations_count}\")\n",
    "else:\n",
    "    print(\"The 'UnitName' column does not exist in your DataFrame. Please check your CSV file.\")\n"
   ]
  },
  {
   "cell_type": "code",
   "execution_count": 2,
   "metadata": {},
   "outputs": [
    {
     "name": "stdout",
     "output_type": "stream",
     "text": [
      "Filtered 'UnitName' counts between 500 and 1000:\n",
      "UnitName\n",
      "Kumarapattanam PS               997\n",
      "Manthala PS                     989\n",
      "Shivamogga Women PS             988\n",
      "Honnavalli PS                   988\n",
      "Punjalkatte PS                  985\n",
      "                               ... \n",
      "Chickaballapura CEN Crime PS    529\n",
      "Bhagamandala PS                 529\n",
      "Hospet Traffic PS               529\n",
      "Narayanapura PS                 519\n",
      "Haveri Women PS                 500\n",
      "Name: count, Length: 177, dtype: int64\n"
     ]
    }
   ],
   "source": [
    "import pandas as pd\n",
    "\n",
    "# Load the CSV file into a DataFrame\n",
    "csv_file_path = r'Copy of ChargsheetedDetails.csv'\n",
    "df = pd.read_csv(csv_file_path)\n",
    "\n",
    "# Count how many data points there are for each 'UnitName'\n",
    "unit_name_counts = df['UnitName'].value_counts()\n",
    "\n",
    "# Filter for 'UnitName' counts between 500 and 1000\n",
    "filtered_counts = unit_name_counts[(unit_name_counts >= 500) & (unit_name_counts <= 1000)]\n",
    "\n",
    "# Print the filtered counts\n",
    "print(\"Filtered 'UnitName' counts between 500 and 1000:\")\n",
    "print(filtered_counts)\n"
   ]
  },
  {
   "cell_type": "code",
   "execution_count": 6,
   "metadata": {},
   "outputs": [
    {
     "name": "stderr",
     "output_type": "stream",
     "text": [
      "C:\\Users\\prama\\AppData\\Local\\Temp\\ipykernel_20544\\2893320202.py:5: DtypeWarning: Columns (19,20) have mixed types. Specify dtype option on import or set low_memory=False.\n",
      "  df = pd.read_csv(csv_file_path)\n"
     ]
    },
    {
     "name": "stdout",
     "output_type": "stream",
     "text": [
      "Filtered DataFrame saved to 'Narayanapura_PS_Unit.csv'.\n"
     ]
    }
   ],
   "source": [
    "import pandas as pd\n",
    "\n",
    "# Load the CSV file into a DataFrame\n",
    "csv_file_path = r'Copy of FIR_Details_Data.csv'\n",
    "df = pd.read_csv(csv_file_path)\n",
    "\n",
    "# Ensure 'UnitName' column exists before proceeding\n",
    "if 'UnitName' not in df.columns:\n",
    "    print(\"The 'UnitName' column does not exist in your DataFrame. Please check your CSV file.\")\n",
    "else:\n",
    "    # Filter DataFrame for rows where 'UnitName' is 'Narayanapura PS'\n",
    "    narayanapura_ps_df = df[df['UnitName'] == 'Narayanapura PS']\n",
    "\n",
    "    # Optionally, you might want to reset the index if you're going to work with this filtered DataFrame further\n",
    "    narayanapura_ps_df.reset_index(drop=True, inplace=True)\n",
    "\n",
    "    # Save the filtered DataFrame to a new CSV file\n",
    "    new_csv_file_path = r'Narayanapura_PS_Unit.csv'\n",
    "    narayanapura_ps_df.to_csv(new_csv_file_path, index=False)\n",
    "\n",
    "    print(f\"Filtered DataFrame saved to '{new_csv_file_path}'.\")\n",
    "\n",
    "# This code block will filter out the rows that match 'Narayanapura PS' in the 'UnitName' column,\n",
    "# reset the index of the filtered DataFrame, and then save it to a new CSV file named 'Narayanapura_PS_Units.csv'.\n",
    "# The 'index=False' parameter is used in to_csv() to prevent pandas from writing the row indices into the CSV file.\n"
   ]
  },
  {
   "cell_type": "code",
   "execution_count": null,
   "metadata": {},
   "outputs": [],
   "source": []
  },
  {
   "cell_type": "code",
   "execution_count": 3,
   "metadata": {},
   "outputs": [
    {
     "name": "stdout",
     "output_type": "stream",
     "text": [
      "Amengad PS has 1343 data points, which does not fall within the range of 500 to 1000.\n"
     ]
    }
   ],
   "source": [
    "import pandas as pd\n",
    "\n",
    "# Load the CSV file into a DataFrame\n",
    "csv_file_path = r'Copy of ChargsheetedDetails.csv'\n",
    "df = pd.read_csv(csv_file_path)\n",
    "\n",
    "# Check if 'UnitName' column exists\n",
    "if 'UnitName' not in df.columns:\n",
    "    print(\"The 'UnitName' column does not exist in your DataFrame. Please check your CSV file.\")\n",
    "else:\n",
    "    # Count how many data points there are for 'Amengad PS'\n",
    "    unit_name_counts = df['UnitName'].value_counts()\n",
    "    amengad_ps_count = unit_name_counts.get(\"Amengad PS\", 0)  # Default to 0 if \"Amengad PS\" is not found\n",
    "\n",
    "    # Check if the count is within the specified range\n",
    "    if 500 <= amengad_ps_count <= 1000:\n",
    "        print(f\"Amengad PS has {amengad_ps_count} data points, which falls within the range of 500 to 1000.\")\n",
    "    else:\n",
    "        print(f\"Amengad PS has {amengad_ps_count} data points, which does not fall within the range of 500 to 1000.\")\n"
   ]
  },
  {
   "cell_type": "code",
   "execution_count": 8,
   "metadata": {},
   "outputs": [],
   "source": [
    "import pandas as pd\n",
    "\n",
    "# Adjust the paths as necessary\n",
    "df1 = pd.read_csv('Narayanapura_PS_Unit.csv')\n",
    "df2 = pd.read_csv('Narayanapura_PS_Units.csv')\n"
   ]
  },
  {
   "cell_type": "code",
   "execution_count": 9,
   "metadata": {},
   "outputs": [],
   "source": [
    "# Merge df1 and df2\n",
    "merged_df = pd.merge(df1, df2, on=['FIR_ID'], how='outer', suffixes=('', '_drop'))\n",
    "\n",
    "# This will keep all rows from both df1 and df2, and append suffix '_drop' to the columns of df2 \n",
    "# that are duplicate and not part of the merge keys.\n",
    "\n",
    "# Now, drop the duplicate columns from df2\n",
    "merged_df = merged_df[[c for c in merged_df.columns if not c.endswith('_drop')]]\n",
    "\n",
    "# If 'FR_ID' is also a common field you want to merge on, include it in the 'on' parameter of pd.merge\n",
    "# For example, pd.merge(df1, df2, on=['FIR_ID', 'FR_ID'], how='outer', suffixes=('', '_drop'))\n"
   ]
  },
  {
   "cell_type": "code",
   "execution_count": 10,
   "metadata": {},
   "outputs": [],
   "source": [
    "merged_df.to_csv('merged_datasets.csv', index=False)\n"
   ]
  },
  {
   "cell_type": "code",
   "execution_count": 11,
   "metadata": {},
   "outputs": [
    {
     "name": "stderr",
     "output_type": "stream",
     "text": [
      "C:\\Users\\prama\\AppData\\Local\\Temp\\ipykernel_20544\\3980487514.py:7: DtypeWarning: Columns (19,20) have mixed types. Specify dtype option on import or set low_memory=False.\n",
      "  df = pd.read_csv(csv_file_path)\n"
     ]
    },
    {
     "name": "stdout",
     "output_type": "stream",
     "text": [
      "['District_Name', 'UnitName', 'FIRNo', 'RI', 'Year', 'Month', 'Offence_From_Date', 'Offence_To_Date', 'FIR_Reg_DateTime', 'FIR_Date', 'FIR Type', 'FIR_Stage', 'Complaint_Mode', 'CrimeGroup_Name', 'CrimeHead_Name', 'Latitude', 'Longitude', 'ActSection', 'IOName', 'KGID', 'IOAssigned_Date', 'Internal_IO', 'Place of Offence', 'Distance from PS', 'Beat_Name', 'Village_Area_Name', 'Male', 'Female', 'Boy', 'Girl', 'Age 0', 'VICTIM COUNT', 'Accused Count', 'Arrested Male', 'Arrested Female', 'Arrested Count\\tNo.', 'Accused_ChargeSheeted Count', 'Conviction Count', 'FIR_ID', 'Unit_ID', 'Crime_No']\n"
     ]
    }
   ],
   "source": [
    "import pandas as pd\n",
    "\n",
    "df1 = pd.read_csv('merged_dataset.csv')\n",
    "\n",
    "\n",
    "# Load your CSV\n",
    "df = pd.read_csv(csv_file_path)\n",
    "\n",
    "# Print all column names\n",
    "print(df.columns.tolist())\n",
    "\n",
    "# Option 1: Referencing with exact spacing (assuming it's a single tab)\n",
    "df['Arrested Count\\tNo.'] = pd.to_numeric(df['Arrested Count\\tNo.'], errors='coerce').fillna(0)\n",
    "\n",
    "# Option 2: Renaming columns for easier handling\n",
    "df.columns = [col.replace('\\t', ' ') for col in df.columns]  # Replace tabs with spaces in column names\n",
    "# Now reference the corrected name\n",
    "df['Arrested Count No.'] = pd.to_numeric(df['Arrested Count No.'], errors='coerce').fillna(0)\n"
   ]
  }
 ],
 "metadata": {
  "kernelspec": {
   "display_name": "Python 3",
   "language": "python",
   "name": "python3"
  },
  "language_info": {
   "codemirror_mode": {
    "name": "ipython",
    "version": 3
   },
   "file_extension": ".py",
   "mimetype": "text/x-python",
   "name": "python",
   "nbconvert_exporter": "python",
   "pygments_lexer": "ipython3",
   "version": "3.12.1"
  }
 },
 "nbformat": 4,
 "nbformat_minor": 2
}
